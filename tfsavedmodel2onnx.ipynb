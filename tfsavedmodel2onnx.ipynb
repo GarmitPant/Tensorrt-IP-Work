{
 "cells": [
  {
   "cell_type": "code",
   "execution_count": 7,
   "metadata": {},
   "outputs": [],
   "source": [
    "import os\n",
    "import sys\n",
    "\n",
    "ROOT = os.getcwd()\n",
    "WORK = os.path.join(ROOT, \"work\")\n",
    "#Using these two models as an example. Change the name according to the folder name of your saved_model folder.\n",
    "\"\"\"\n",
    "SAVED_MODEL folder architecture:\n",
    "folder\n",
    "    |-saved_model.pb\n",
    "    |-other folders and files\n",
    "\"\"\"\n",
    "MODEL = \"ssd_mobilenet_v2_320x320_coco17_tpu-8\"\n",
    "MODEL2 = \"ssd_resnet50_v1_fpn_640x640_coco17_tpu-8\"\n",
    "\n",
    "os.makedirs(WORK, exist_ok=True)\n",
    "\n",
    "# force tf2onnx to cpu\n",
    "os.environ['CUDA_VISIBLE_DEVICES'] = \"0\"\n",
    "os.environ['MODEL'] = MODEL\n",
    "os.environ['WORK'] = WORK\n",
    "os.environ['MODEL2'] = MODEL2"
   ]
  },
  {
   "cell_type": "markdown",
   "metadata": {},
   "source": [
    "The following lines of code download the above two models. Ignore them for custom models."
   ]
  },
  {
   "cell_type": "code",
   "execution_count": null,
   "metadata": {},
   "outputs": [],
   "source": [
    "!cd $WORK\n",
    "!wget -q http://download.tensorflow.org/models/object_detection/tf2/20200711/$MODEL1.tar.gz\n",
    "!cd $WORK \n",
    "!tar zxvf $MODEL1.tar.gz"
   ]
  },
  {
   "cell_type": "code",
   "execution_count": 6,
   "metadata": {},
   "outputs": [
    {
     "name": "stdout",
     "output_type": "stream",
     "text": [
      "<?xml version='1.0' encoding='UTF-8'?><Error><Code>AccessDenied</Code><Message>Access denied.</Message></Error>\n"
     ]
    },
    {
     "name": "stderr",
     "output_type": "stream",
     "text": [
      "  % Total    % Received % Xferd  Average Speed   Time    Time     Time  Current\n",
      "                                 Dload  Upload   Total   Spent    Left  Speed\n",
      "\n",
      "  0     0    0     0    0     0      0      0 --:--:-- --:--:-- --:--:--     0\n",
      "100   111  100   111    0     0    294      0 --:--:-- --:--:-- --:--:--   295\n"
     ]
    }
   ],
   "source": [
    "!cd $WORK\n",
    "!wget -q http://download.tensorflow.org/models/object_detection/tf2/20200711/$MODEL2.tar.gz \n",
    "!cd $WORK \n",
    "!tar zxvf $MODEL2.tar.gz"
   ]
  },
  {
   "cell_type": "markdown",
   "metadata": {},
   "source": [
    "The following lines of code convert the tf2 saved_model to onnx. For custom models, pass the path to your saved directory after '--saved-model'"
   ]
  },
  {
   "cell_type": "code",
   "execution_count": null,
   "metadata": {},
   "outputs": [],
   "source": [
    "!python -m tf2onnx.convert --opset 14 --fold_const --saved-model $WORK/$MODEL1/saved_model --output $WORK/$MODEL1.onnx"
   ]
  },
  {
   "cell_type": "code",
   "execution_count": null,
   "metadata": {},
   "outputs": [],
   "source": [
    "!python -m tf2onnx.convert --opset 14 --fold_const --saved-model $WORK/$MODEL2/saved_model --output $WORK/$MODEL2.onnx"
   ]
  }
 ],
 "metadata": {
  "interpreter": {
   "hash": "118c71332943b55e1ad81337706e2bb8ec3703a643369f0afe11102f9834a856"
  },
  "kernelspec": {
   "display_name": "Python 3.8.5 64-bit ('env-01': conda)",
   "language": "python",
   "name": "python3"
  },
  "language_info": {
   "codemirror_mode": {
    "name": "ipython",
    "version": 3
   },
   "file_extension": ".py",
   "mimetype": "text/x-python",
   "name": "python",
   "nbconvert_exporter": "python",
   "pygments_lexer": "ipython3",
   "version": "3.8.5"
  },
  "orig_nbformat": 4
 },
 "nbformat": 4,
 "nbformat_minor": 2
}
